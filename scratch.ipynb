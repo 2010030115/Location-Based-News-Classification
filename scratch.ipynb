{
 "cells": [
  {
   "cell_type": "code",
   "id": "initial_id",
   "metadata": {
    "collapsed": true,
    "jupyter": {
     "is_executing": true
    }
   },
   "source": [
    "# import modules\n",
    "from tkinter import *\n",
    "from gnewsclient import gnewsclient\n",
    "\n",
    "# defined functions\n",
    "def news():\n",
    "\tclient = gnewsclient.NewsClient(\n",
    "\t\tlanguage=lang.get(), location=loc.get(), topic=top.get(), max_results=3)\n",
    "\tnews_list = client.get_news()\n",
    "\tresult_title.set(news_list[0][\"title\"] + \"\\n\" +\n",
    "\t\t\t\t\tnews_list[1][\"title\"] + \"\\n\" + news_list[2][\"title\"])\n",
    "\n",
    "\n",
    "# tkinter object\n",
    "master = Tk()\n",
    "master.title(\"NEWS\")\n",
    "\n",
    "# background set to grey\n",
    "master.configure(bg='light grey')\n",
    "\n",
    "# Variable Classes in tkinter\n",
    "result_title = StringVar()\n",
    "result_link = StringVar()\n",
    "\n",
    "# Creating label for each information\n",
    "# name using widget Label\n",
    "Label(master, text=\"Choose language :\", bg=\"light grey\").grid(row=0, sticky=W)\n",
    "Label(master, text=\"Choose Location :\", bg=\"light grey\").grid(row=1, sticky=W)\n",
    "Label(master, text=\"Choose Topic :\", bg=\"light grey\").grid(row=2, sticky=W)\n",
    "\n",
    "\n",
    "lang = Entry(master)\n",
    "lang.grid(row=0, column=1)\n",
    "\n",
    "loc = Entry(master)\n",
    "loc.grid(row=1, column=1)\n",
    "\n",
    "top = Entry(master)\n",
    "top.grid(row=2, column=1)\n",
    "\n",
    "\n",
    "# Creating label for class variable\n",
    "# name using widget Entry\n",
    "Label(master, text=\"\", textvariable=result_title,\n",
    "\tbg=\"light grey\").grid(row=3, column=1, sticky=W)\n",
    "\n",
    "# creating a button using the widget\n",
    "# Button to call the submit function\n",
    "Button(master, text=\"SHOW\", command=news, bg=\"white\").grid(row=1, column=3)\n",
    "\n",
    "\n",
    "mainloop()\n"
   ],
   "outputs": [],
   "execution_count": null
  },
  {
   "metadata": {
    "jupyter": {
     "is_executing": true
    }
   },
   "cell_type": "code",
   "source": "",
   "id": "51af1a78f257999e",
   "outputs": [],
   "execution_count": null
  },
  {
   "metadata": {},
   "cell_type": "code",
   "outputs": [],
   "execution_count": null,
   "source": "",
   "id": "4282d38aa50b4370"
  }
 ],
 "metadata": {
  "kernelspec": {
   "display_name": "Python 3",
   "language": "python",
   "name": "python3"
  },
  "language_info": {
   "codemirror_mode": {
    "name": "ipython",
    "version": 2
   },
   "file_extension": ".py",
   "mimetype": "text/x-python",
   "name": "python",
   "nbconvert_exporter": "python",
   "pygments_lexer": "ipython2",
   "version": "2.7.6"
  }
 },
 "nbformat": 4,
 "nbformat_minor": 5
}
